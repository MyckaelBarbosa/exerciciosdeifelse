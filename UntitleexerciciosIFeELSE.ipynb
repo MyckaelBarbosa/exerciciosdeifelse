{
  "nbformat": 4,
  "nbformat_minor": 0,
  "metadata": {
    "colab": {
      "provenance": []
    },
    "kernelspec": {
      "name": "python3",
      "display_name": "Python 3"
    },
    "language_info": {
      "name": "python"
    }
  },
  "cells": [
    {
      "cell_type": "code",
      "execution_count": null,
      "metadata": {
        "id": "0N6LJwV_2xKS"
      },
      "outputs": [],
      "source": [
        "parcial1 = float(input(\"digite a primeira nota\") )\n",
        "parcial2 = float(input(\"Digite a segunda nota\") )\n",
        "media = (parcial1 + parcial2)/ 2\n",
        "if media >= 7 and media  < 10:\n",
        " print(\"Aprovado\")\n",
        "elif media == 10:\n",
        " print(\"Aprovado com distincao\")\n",
        "else:\n",
        " print(\"Reprovado\")"
      ]
    },
    {
      "cell_type": "code",
      "source": [
        "numero = int(input(\"Digite o numero\"))\n",
        "if numero > 0:\n",
        " print(\"O numero é positivo\")\n",
        "elif numero == 0:\n",
        " print(\"O numero digitado é zero\")\n",
        "else:\n",
        " print(\"O numero é negativo\")\n"
      ],
      "metadata": {
        "id": "cOmmkfVK209U"
      },
      "execution_count": null,
      "outputs": []
    },
    {
      "cell_type": "code",
      "source": [
        "sexo = input(\"Digite M para masculino e F para feminino\")\n",
        "if sexo == \"m\" or sexo == \"M\":\n",
        " print(\"Sexo masculino\")\n",
        "elif sexo == \"f\" or sexo == \"F\":\n",
        " print(\"Sexo feminino\")\n",
        "else:\n",
        " print(\"Sexo invalido\")\n"
      ],
      "metadata": {
        "id": "P9FCGHdB24KL"
      },
      "execution_count": null,
      "outputs": []
    },
    {
      "cell_type": "code",
      "source": [
        "a = input(\"Digite o primeiro numero\")\n",
        "b = input(\"Digite o segundo numero\")\n",
        "c = input(\"Digite o terceiro numero\")\n",
        "if a >= b and a >= c:\n",
        " print(\"O maior número é:a\")\n",
        "elif b > a and b > c:\n",
        " print(\"O maior número é: b\")\n",
        "else:\n",
        " print(\"O maior número é: c\")"
      ],
      "metadata": {
        "id": "6phOB4Jr267x"
      },
      "execution_count": null,
      "outputs": []
    },
    {
      "cell_type": "code",
      "source": [
        "a = float(input(\"Insira o preco do primeiro numero\"))\n",
        "b = float(input(\"insira o preco do segundo numero\"))\n",
        "c = float(input(\"Insira o preco do terceiro numero\"))\n",
        "if a < b and a  < c:\n",
        " print(\"a\")\n",
        "elif b < a and b < c:\n",
        " print(\"b\")\n",
        "elif c < a and c < b:\n",
        " print(\"c\")\n",
        "else:\n",
        " print(\"Produto com o menor preco\")"
      ],
      "metadata": {
        "id": "rx85LxAO3HPv"
      },
      "execution_count": null,
      "outputs": []
    },
    {
      "cell_type": "code",
      "source": [
        "num1 = input(\"Insira o primeiro número\")\n",
        "num2 = input(\"Insira o segundo número\")\n",
        "if num1 > num2:\n",
        " print(\"O maior, num1\")\n",
        " print(\"O menor, num2\")\n",
        "elif num2 >= num1:\n",
        " print(\"O maior, num2\")\n",
        " print(\"O menor, num1\")\n"
      ],
      "metadata": {
        "id": "ticoKvwa3I3H"
      },
      "execution_count": null,
      "outputs": []
    },
    {
      "cell_type": "code",
      "source": [
        "dia = int (input (\"Insira um Número de um até 7\"))\n",
        "if dia == 1:\n",
        " print(\"Domingo\")\n",
        "elif dia == 2:\n",
        " print(\"Segunda-feira\")\n",
        "elif dia == 3:\n",
        " print(\"Terça-feira\")\n",
        "elif dia == 4:\n",
        " print(\"Quarta-feira\")\n",
        "elif dia == 5:\n",
        " print(\"Quinta-feira\")\n",
        "elif dia == 6:\n",
        " print(\"Sexta-feira\")\n",
        "elif dia == 7:\n",
        " print(\"Sábado\")\n",
        "else:\n",
        " print(\"Número Inválido\")\n"
      ],
      "metadata": {
        "id": "ooqmx9qN3L2P"
      },
      "execution_count": null,
      "outputs": []
    },
    {
      "cell_type": "code",
      "source": [
        "a = input(\"Digite o primeiro numero \")# a variavel a esta recebendo o valor digitado pelo input do usuario após escrever uma mensagem\n",
        "b = input(\"Digite o segundo numero \")# a variavel b esta recebendo o valor digitado pelo input do usuario após escrever uma mensagem\n",
        "if b > a: #se o valor de b for maior que o valor de a, faça\n",
        " print(b) # escrever o valor de b na tela\n",
        "elif b == a:#senão se b for igual a `a` então\n",
        " print(\"Os numeros são iguais\")# escreve na tela uma mensagem \"os numeros sao iguais\"\n",
        "else:# senão (negando que b seja maior que a ou que seja igual a 'a')\n",
        "  print(a)# escrever na tela o valor de a\n"
      ],
      "metadata": {
        "id": "yOgvuruc3QjE"
      },
      "execution_count": null,
      "outputs": []
    },
    {
      "cell_type": "code",
      "source": [
        "a = input(\"Digite o primeiro número\")\n",
        "b = input(\"Digite o segundo número\")\n",
        "c = input(\"Digite o terceiro número\")\n",
        "if a > b and b > c:\n",
        " print(\"Os números em ordem decrescente\", a, b, c)\n",
        "elif a > c and c > b:\n",
        " print(\"Os números em ordem decrescente\", a, c, b)\n",
        "elif b > a and a > c:\n",
        " print(\"Os números em ordem decrescente\", b, a, c)\n",
        "elif b > c and c > a:\n",
        " print(\"Os números em ordem decrescente\", b, c, a)\n",
        "elif c > a and a > b:\n",
        "  print(\"Os números em ordem decrescente\", c, a, b)\n",
        "else:\n",
        "  print(\"Os números em ordem decrescente\", c, b, a)\n"
      ],
      "metadata": {
        "id": "fYih-O4l3T-0"
      },
      "execution_count": null,
      "outputs": []
    },
    {
      "cell_type": "code",
      "source": [
        "a = int(input(\"Digite o primeiro número\"))\n",
        "b = int(input(\"Digite o segundo número\"))\n",
        "c = int(input(\"Digite o terceiro número\"))\n",
        "maior = 0\n",
        "menor = 0\n",
        "if a > b and a > c:\n",
        " maior = a\n",
        "elif b > a and b > c:\n",
        "  maior = b\n",
        "elif c > a and c > b:\n",
        "  maior = c\n",
        "if a < b and a < c:\n",
        "  menor = a\n",
        "elif b < a  and b < c:\n",
        "  menor = b\n",
        "elif c < a and c < b:\n",
        "  menor = c\n",
        "else:\n",
        "  print(\"menor, maior\")\n",
        "  print(\"maior, menor\")"
      ],
      "metadata": {
        "id": "Gy2NTdcJ3Wmc"
      },
      "execution_count": null,
      "outputs": []
    }
  ]
}